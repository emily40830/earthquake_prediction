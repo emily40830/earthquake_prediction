{
 "cells": [
  {
   "cell_type": "code",
   "execution_count": 1,
   "metadata": {},
   "outputs": [],
   "source": [
    "#使用預處理來提取更有意義的特徵。這裏使用主成份分析來提取150個基本元素，然後將其提供給支持向量機分類器。\n",
    "import numpy as np\n",
    "import matplotlib.pyplot as plt\n",
    "from sklearn.linear_model import LinearRegression\n",
    "import pandas as pd\n",
    "from sklearn import metrics\n",
    "\n",
    "data=pd.read_csv('G:/學校相關作業/人工智慧/期末報告_預測加速度/predict_1000.csv',engine='python')\n",
    "att=data.iloc[0:,:6]\n",
    "RealPGA=data.iloc[0:,6:]\n",
    "RealPGA = np.array(RealPGA, dtype=int)"
   ]
  },
  {
   "cell_type": "code",
   "execution_count": 2,
   "metadata": {},
   "outputs": [],
   "source": [
    "#決策樹參數說明:https://www.cnblogs.com/pinard/p/6056319.html\n",
    "model=LinearRegression(fit_intercept=True,normalize=True,copy_X=True,n_jobs=1)"
   ]
  },
  {
   "cell_type": "code",
   "execution_count": 4,
   "metadata": {},
   "outputs": [],
   "source": [
    "#爲了測試分類器的訓練效果，將數據集分解成訓練集和測試集進行交叉檢驗\n",
    "from sklearn.model_selection import train_test_split\n",
    "Xtrain, Xtest, ytrain, ytest = train_test_split(att,\n",
    "                                                RealPGA,\n",
    "                                                random_state=42,\n",
    "                                                test_size = 0.3)"
   ]
  },
  {
   "cell_type": "code",
   "execution_count": 5,
   "metadata": {},
   "outputs": [
    {
     "name": "stdout",
     "output_type": "stream",
     "text": [
      "{'fit_intercept': 'True', 'normalize': 'True'}\n"
     ]
    }
   ],
   "source": [
    "'''#用網絡搜索交叉檢驗來尋找最優參數組合。\n",
    "from sklearn.model_selection import GridSearchCV\n",
    "param_grid ={\"fit_intercept\": ['True','False'],\n",
    "             \"normalize\":['True','False']}\n",
    "grid = GridSearchCV(model,param_grid)\n",
    "\n",
    "grid.fit(Xtrain, ytrain)\n",
    "print(grid.best_params_)'''"
   ]
  },
  {
   "cell_type": "code",
   "execution_count": 6,
   "metadata": {},
   "outputs": [],
   "source": [
    "#有了交叉檢驗的模型，現在就可以對測試集的數據進行預測了\n",
    "#model = grid.best_estimator_\n",
    "model.fit(Xtrain, ytrain)\n",
    "yfit = model.predict(Xtest)"
   ]
  },
  {
   "cell_type": "code",
   "execution_count": 7,
   "metadata": {},
   "outputs": [
    {
     "name": "stdout",
     "output_type": "stream",
     "text": [
      "Anns的R sqaure: -65.005721879\n",
      "Anns的MAPE: 73.7998494223\n",
      "Anns的MAE: 28.3345861527\n",
      "Anns的MSE: 93537.3949343\n",
      "Anns的RMSE: 305.838838172\n"
     ]
    }
   ],
   "source": [
    "#模型分數\n",
    "\n",
    "def mean_absolute_percentage_error(y_true,y_pred):\n",
    "    y_true,y_pred=np.array(y_true),np.array(y_pred)\n",
    "    return np.mean(np.abs((y_true-y_pred)/y_true))*100\n",
    "\n",
    "print('Anns的R sqaure:',metrics.r2_score(ytest,yfit))\n",
    "print('Anns的MAPE:',mean_absolute_percentage_error(ytest,yfit))\n",
    "print('Anns的MAE:',metrics.mean_absolute_error(ytest,yfit))\n",
    "print('Anns的MSE:',metrics.mean_squared_error(ytest,yfit))\n",
    "print('Anns的RMSE:',np.sqrt(metrics.mean_squared_error(ytest,yfit)))"
   ]
  },
  {
   "cell_type": "code",
   "execution_count": 8,
   "metadata": {},
   "outputs": [
    {
     "name": "stderr",
     "output_type": "stream",
     "text": [
      "C:\\Users\\ASUS\\Anaconda3\\envs\\tensorflow\\lib\\site-packages\\matplotlib\\pyplot.py:1441: UserWarning: Attempted to set non-positive left xlim on a log-scaled axis.\n",
      "Invalid limit will be ignored.\n",
      "  ret = ax.set_xlim(*args, **kwargs)\n",
      "C:\\Users\\ASUS\\Anaconda3\\envs\\tensorflow\\lib\\site-packages\\matplotlib\\pyplot.py:1478: UserWarning: Attempted to set non-positive bottom ylim on a log-scaled axis.\n",
      "Invalid limit will be ignored.\n",
      "  ret = ax.set_ylim(*args, **kwargs)\n"
     ]
    },
    {
     "data": {
      "text/plain": [
       "<function matplotlib.pyplot.show(*args, **kw)>"
      ]
     },
     "execution_count": 8,
     "metadata": {},
     "output_type": "execute_result"
    },
    {
     "data": {
      "image/png": "[encoded data removed]",
      "text/plain": [
       "<Figure size 432x288 with 1 Axes>"
      ]
     },
     "metadata": {
      "needs_background": "light"
     },
     "output_type": "display_data"
    }
   ],
   "source": [
    "import matplotlib.pyplot as plt\n",
    "x=ytest\n",
    "y=yfit\n",
    "plt.scatter(x,y, s=1.5,alpha=1)\n",
    "plt.plot(x,x,color='green', linewidth=1.0)\n",
    "plt.xscale('log')\n",
    "plt.yscale('log')\n",
    "plt.xlim(0,4000)\n",
    "plt.ylim(0,4000)\n",
    "plt.xlabel('Real PGA(gal)')\n",
    "plt.ylabel('Predicted PGA(gal)')\n",
    "plt.grid()\n",
    "plt.show"
   ]
  },
  {
   "cell_type": "code",
   "execution_count": null,
   "metadata": {},
   "outputs": [],
   "source": []
  }
 ],
 "metadata": {
  "kernelspec": {
   "display_name": "Python 3",
   "language": "python",
   "name": "python3"
  },
  "language_info": {
   "codemirror_mode": {
    "name": "ipython",
    "version": 3
   },
   "file_extension": ".py",
   "mimetype": "text/x-python",
   "name": "python",
   "nbconvert_exporter": "python",
   "pygments_lexer": "ipython3",
   "version": "3.5.6"
  }
 },
 "nbformat": 4,
 "nbformat_minor": 2
}
